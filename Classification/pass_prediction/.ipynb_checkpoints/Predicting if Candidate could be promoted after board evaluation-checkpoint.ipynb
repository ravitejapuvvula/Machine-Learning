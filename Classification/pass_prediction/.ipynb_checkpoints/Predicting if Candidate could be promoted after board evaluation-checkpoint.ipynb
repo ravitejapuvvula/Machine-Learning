{
 "cells": [
  {
   "cell_type": "markdown",
   "id": "4002364d",
   "metadata": {},
   "source": [
    "# Predicting if Candidate could be promoted after board evaluation \n",
    "\n",
    " This notebook will looks into various python based machine learning models in an attempt to build a algorithm to predict if a canditate could by promoted.\n",
    " \n",
    " We are going to do following steps to solve the problem.\n",
    " \n",
    " 1. Problem Definition\n",
    " 2. Features\n",
    " 3. Exploratory Data Analysis\n",
    " 4. Data Preprocessing\n",
    " 5. Modelling\n",
    " 6. Hyperparameter Tuning\n",
    " 7. Experimentation\n",
    " 8. Model Evaluation\n",
    " 9. Model Prediction\n",
    " 10. Feature Importance"
   ]
  },
  {
   "cell_type": "markdown",
   "id": "c934f04d",
   "metadata": {},
   "source": [
    "## 1. Problem Definition\n",
    "\n",
    "> Statement : For the given set of conditions of a patient such as department,region,education etc, can we predict whether a potential candidate will be promoted or not after the board evaluation process\n",
    "\n",
    "\n",
    "## 2. Features\n",
    "\n",
    "**Below mentioned Attributes are considered to evaluate the target(is_promoted)**\n",
    "\n",
    "- employee_id: Unique ID for employee\n",
    "- department: Department of employee\n",
    "- region: Region of employment (unordered)\n",
    "- education: Education Level\n",
    "- gender: Gender of Employee\n",
    "- recruitment_channel: Channel of recruitment for employee\n",
    "- nooftrainings: no of other trainings completed in previous year on soft skills, technical skills etc.\n",
    "- age: Age of Employee\n",
    "- previousyearrating: Employee Rating for the previous year\n",
    "- lengthofservice: Length of service in years\n",
    "- awards_won?: if awards won during previous year then 1 else 0\n",
    "- avgtrainingscore: Average score in current training evaluations\n",
    "- is_promoted: (Target) Recommended for promotion"
   ]
  },
  {
   "cell_type": "markdown",
   "id": "012fa022",
   "metadata": {},
   "source": [
    "## 3. Exploratory Data Analysis\n",
    "\n",
    "### 3.1 Preparation of Tools"
   ]
  },
  {
   "cell_type": "code",
   "execution_count": 2,
   "id": "42aabd65",
   "metadata": {},
   "outputs": [],
   "source": [
    "# Import tools\n",
    "\n",
    "# Import EDA( Exploratory data analysis) to manipulate and plot data\n",
    "\n",
    "import pandas as pd\n",
    "import numpy as np\n",
    "import matplotlib.pyplot as plt\n",
    "import seaborn as sns\n",
    "\n",
    "# To plot the graphs in notebook\n",
    "\n",
    "%matplotlib inline \n",
    "\n",
    "# Importing scikit libraries\n",
    "\n",
    "from sklearn.linear_model import LogisticRegression\n",
    "from sklearn.neighbors import KNeighborsClassifier\n",
    "from sklearn.ensemble import RandomForestClassifier\n",
    "\n",
    "# Import Model Evaluation metrics\n",
    "\n",
    "from sklearn.model_selection import train_test_split,cross_val_score\n",
    "from sklearn.model_selection import RandomizedSearchCV,GridSearchCV\n",
    "from sklearn.metrics import confusion_matrix,classification_report\n",
    "from sklearn.metrics import precision_score,recall_score,f1_score,accuracy_score\n",
    "from sklearn.metrics import plot_roc_curve\n"
   ]
  },
  {
   "cell_type": "markdown",
   "id": "d86bb98f",
   "metadata": {},
   "source": [
    "### 3.2 Description of Data and Overview"
   ]
  },
  {
   "cell_type": "code",
   "execution_count": 4,
   "id": "11da4e17",
   "metadata": {},
   "outputs": [
    {
     "data": {
      "text/html": [
       "<div>\n",
       "<style scoped>\n",
       "    .dataframe tbody tr th:only-of-type {\n",
       "        vertical-align: middle;\n",
       "    }\n",
       "\n",
       "    .dataframe tbody tr th {\n",
       "        vertical-align: top;\n",
       "    }\n",
       "\n",
       "    .dataframe thead th {\n",
       "        text-align: right;\n",
       "    }\n",
       "</style>\n",
       "<table border=\"1\" class=\"dataframe\">\n",
       "  <thead>\n",
       "    <tr style=\"text-align: right;\">\n",
       "      <th></th>\n",
       "      <th>employee_id</th>\n",
       "      <th>department</th>\n",
       "      <th>region</th>\n",
       "      <th>education</th>\n",
       "      <th>gender</th>\n",
       "      <th>recruitment_channel</th>\n",
       "      <th>no_of_trainings</th>\n",
       "      <th>age</th>\n",
       "      <th>previous_year_rating</th>\n",
       "      <th>length_of_service</th>\n",
       "      <th>awards_won?</th>\n",
       "      <th>avg_training_score</th>\n",
       "      <th>is_promoted</th>\n",
       "    </tr>\n",
       "  </thead>\n",
       "  <tbody>\n",
       "    <tr>\n",
       "      <th>0</th>\n",
       "      <td>65438</td>\n",
       "      <td>Sales &amp; Marketing</td>\n",
       "      <td>region_7</td>\n",
       "      <td>Master's &amp; above</td>\n",
       "      <td>f</td>\n",
       "      <td>sourcing</td>\n",
       "      <td>1</td>\n",
       "      <td>35</td>\n",
       "      <td>5.0</td>\n",
       "      <td>8</td>\n",
       "      <td>0</td>\n",
       "      <td>49</td>\n",
       "      <td>0</td>\n",
       "    </tr>\n",
       "    <tr>\n",
       "      <th>1</th>\n",
       "      <td>65141</td>\n",
       "      <td>Operations</td>\n",
       "      <td>region_22</td>\n",
       "      <td>Bachelor's</td>\n",
       "      <td>m</td>\n",
       "      <td>other</td>\n",
       "      <td>1</td>\n",
       "      <td>30</td>\n",
       "      <td>5.0</td>\n",
       "      <td>4</td>\n",
       "      <td>0</td>\n",
       "      <td>60</td>\n",
       "      <td>0</td>\n",
       "    </tr>\n",
       "    <tr>\n",
       "      <th>2</th>\n",
       "      <td>7513</td>\n",
       "      <td>Sales &amp; Marketing</td>\n",
       "      <td>region_19</td>\n",
       "      <td>Bachelor's</td>\n",
       "      <td>m</td>\n",
       "      <td>sourcing</td>\n",
       "      <td>1</td>\n",
       "      <td>34</td>\n",
       "      <td>3.0</td>\n",
       "      <td>7</td>\n",
       "      <td>0</td>\n",
       "      <td>50</td>\n",
       "      <td>0</td>\n",
       "    </tr>\n",
       "    <tr>\n",
       "      <th>3</th>\n",
       "      <td>2542</td>\n",
       "      <td>Sales &amp; Marketing</td>\n",
       "      <td>region_23</td>\n",
       "      <td>Bachelor's</td>\n",
       "      <td>m</td>\n",
       "      <td>other</td>\n",
       "      <td>2</td>\n",
       "      <td>39</td>\n",
       "      <td>1.0</td>\n",
       "      <td>10</td>\n",
       "      <td>0</td>\n",
       "      <td>50</td>\n",
       "      <td>0</td>\n",
       "    </tr>\n",
       "    <tr>\n",
       "      <th>4</th>\n",
       "      <td>48945</td>\n",
       "      <td>Technology</td>\n",
       "      <td>region_26</td>\n",
       "      <td>Bachelor's</td>\n",
       "      <td>m</td>\n",
       "      <td>other</td>\n",
       "      <td>1</td>\n",
       "      <td>45</td>\n",
       "      <td>3.0</td>\n",
       "      <td>2</td>\n",
       "      <td>0</td>\n",
       "      <td>73</td>\n",
       "      <td>0</td>\n",
       "    </tr>\n",
       "  </tbody>\n",
       "</table>\n",
       "</div>"
      ],
      "text/plain": [
       "   employee_id         department     region         education gender  \\\n",
       "0        65438  Sales & Marketing   region_7  Master's & above      f   \n",
       "1        65141         Operations  region_22        Bachelor's      m   \n",
       "2         7513  Sales & Marketing  region_19        Bachelor's      m   \n",
       "3         2542  Sales & Marketing  region_23        Bachelor's      m   \n",
       "4        48945         Technology  region_26        Bachelor's      m   \n",
       "\n",
       "  recruitment_channel  no_of_trainings  age  previous_year_rating  \\\n",
       "0            sourcing                1   35                   5.0   \n",
       "1               other                1   30                   5.0   \n",
       "2            sourcing                1   34                   3.0   \n",
       "3               other                2   39                   1.0   \n",
       "4               other                1   45                   3.0   \n",
       "\n",
       "   length_of_service  awards_won?  avg_training_score  is_promoted  \n",
       "0                  8            0                  49            0  \n",
       "1                  4            0                  60            0  \n",
       "2                  7            0                  50            0  \n",
       "3                 10            0                  50            0  \n",
       "4                  2            0                  73            0  "
      ]
     },
     "execution_count": 4,
     "metadata": {},
     "output_type": "execute_result"
    }
   ],
   "source": [
    "## Loading the data and providing glimpse\n",
    "\n",
    "df = pd.read_csv(\"data/promotion_dataset.csv\",encoding=\"utf-8\")\n",
    "\n",
    "df.head()"
   ]
  },
  {
   "cell_type": "code",
   "execution_count": 5,
   "id": "995bf004",
   "metadata": {},
   "outputs": [
    {
     "name": "stdout",
     "output_type": "stream",
     "text": [
      "<class 'pandas.core.frame.DataFrame'>\n",
      "RangeIndex: 54808 entries, 0 to 54807\n",
      "Data columns (total 13 columns):\n",
      " #   Column                Non-Null Count  Dtype  \n",
      "---  ------                --------------  -----  \n",
      " 0   employee_id           54808 non-null  int64  \n",
      " 1   department            54808 non-null  object \n",
      " 2   region                54808 non-null  object \n",
      " 3   education             52399 non-null  object \n",
      " 4   gender                54808 non-null  object \n",
      " 5   recruitment_channel   54808 non-null  object \n",
      " 6   no_of_trainings       54808 non-null  int64  \n",
      " 7   age                   54808 non-null  int64  \n",
      " 8   previous_year_rating  50684 non-null  float64\n",
      " 9   length_of_service     54808 non-null  int64  \n",
      " 10  awards_won?           54808 non-null  int64  \n",
      " 11  avg_training_score    54808 non-null  int64  \n",
      " 12  is_promoted           54808 non-null  int64  \n",
      "dtypes: float64(1), int64(7), object(5)\n",
      "memory usage: 5.4+ MB\n"
     ]
    }
   ],
   "source": [
    "df.info()"
   ]
  },
  {
   "cell_type": "code",
   "execution_count": 10,
   "id": "9e1a21a2",
   "metadata": {},
   "outputs": [
    {
     "data": {
      "image/png": "[encoded data removed]",
      "text/plain": [
       "<Figure size 576x432 with 1 Axes>"
      ]
     },
     "metadata": {
      "needs_background": "light"
     },
     "output_type": "display_data"
    }
   ],
   "source": [
    "# Get the target variable type and type count\n",
    "\n",
    "# Plot the value counts with a bar graph\n",
    "plt.rcParams[\"figure.figsize\"] = (8,6)\n",
    "df.is_promoted.value_counts().plot(kind=\"bar\", color=[\"#9c1a04\", \"#6aa84f\"]);\n",
    "\n",
    "# Add some attributes to it\n",
    "plt.title(\"Number of Candidates promoted\")\n",
    "plt.xlabel(\"0 = Not Promoted, 1 = Promoted\")\n",
    "plt.ylabel(\"Number of Candidates\")\n",
    "plt.xticks(rotation=0); # keep the labels on the x-axis vertical"
   ]
  },
  {
   "cell_type": "code",
   "execution_count": 26,
   "id": "a7ace10e",
   "metadata": {},
   "outputs": [
    {
     "data": {
      "text/plain": [
       "<AxesSubplot:xlabel='gender', ylabel='is_promoted'>"
      ]
     },
     "execution_count": 26,
     "metadata": {},
     "output_type": "execute_result"
    },
    {
     "data": {
      "image/png": "[encoded data removed]",
      "text/plain": [
       "<Figure size 720x576 with 2 Axes>"
      ]
     },
     "metadata": {
      "needs_background": "light"
     },
     "output_type": "display_data"
    }
   ],
   "source": [
    "# Checking if maximum heart rate acheived across different age groups\n",
    "\n",
    "plt.rcParams[\"figure.figsize\"] = (10,8)\n",
    "sns.heatmap(pd.crosstab(df.is_promoted,df.gender),cmap=\"Blues\",annot=True,fmt=\".1f\",)"
   ]
  },
  {
   "cell_type": "code",
   "execution_count": 23,
   "id": "50aed158",
   "metadata": {},
   "outputs": [
    {
     "data": {
      "text/plain": [
       "<AxesSubplot:>"
      ]
     },
     "execution_count": 23,
     "metadata": {},
     "output_type": "execute_result"
    },
    {
     "data": {
      "image/png": "[encoded data removed]",
      "text/plain": [
       "<Figure size 1080x720 with 2 Axes>"
      ]
     },
     "metadata": {
      "needs_background": "light"
     },
     "output_type": "display_data"
    }
   ],
   "source": [
    "# Finding correlation between features and target value\n",
    "\n",
    "plt.rcParams[\"figure.figsize\"] = (15,10)\n",
    "sns.heatmap(df_hd.corr(),annot=True,linewidths=0.5,cmap=\"YlGnBu\")"
   ]
  },
  {
   "cell_type": "code",
   "execution_count": 42,
   "id": "54e3e886",
   "metadata": {},
   "outputs": [
    {
     "data": {
      "image/png": "[encoded data removed]",
      "text/plain": [
       "<Figure size 1800x720 with 2 Axes>"
      ]
     },
     "metadata": {
      "needs_background": "light"
     },
     "output_type": "display_data"
    }
   ],
   "source": [
    "# Finding the number of candidates based on Education and recruitment_channel\n",
    "\n",
    "df_education = df.groupby(\"education\").count()\n",
    "df_recruitment = df.groupby(\"recruitment_channel\").count()\n",
    "\n",
    "plt.rcParams[\"figure.figsize\"] = (25,10)\n",
    "fig, ((ax1, ax2)) = plt.subplots(nrows=1, ncols=2)\n",
    "\n",
    "ax1.bar(df_education.index, df_education.employee_id, align='center')\n",
    "ax2.bar(df_recruitment.index, df_recruitment.employee_id, align='center')\n",
    "\n",
    "plt.show()"
   ]
  },
  {
   "cell_type": "markdown",
   "id": "37ddc04c",
   "metadata": {},
   "source": [
    "## 4. Data Preprocessing"
   ]
  },
  {
   "cell_type": "code",
   "execution_count": 43,
   "id": "86beb79b",
   "metadata": {},
   "outputs": [
    {
     "data": {
      "text/html": [
       "<div>\n",
       "<style scoped>\n",
       "    .dataframe tbody tr th:only-of-type {\n",
       "        vertical-align: middle;\n",
       "    }\n",
       "\n",
       "    .dataframe tbody tr th {\n",
       "        vertical-align: top;\n",
       "    }\n",
       "\n",
       "    .dataframe thead th {\n",
       "        text-align: right;\n",
       "    }\n",
       "</style>\n",
       "<table border=\"1\" class=\"dataframe\">\n",
       "  <thead>\n",
       "    <tr style=\"text-align: right;\">\n",
       "      <th></th>\n",
       "      <th>employee_id</th>\n",
       "      <th>department</th>\n",
       "      <th>region</th>\n",
       "      <th>education</th>\n",
       "      <th>gender</th>\n",
       "      <th>recruitment_channel</th>\n",
       "      <th>no_of_trainings</th>\n",
       "      <th>age</th>\n",
       "      <th>previous_year_rating</th>\n",
       "      <th>length_of_service</th>\n",
       "      <th>awards_won?</th>\n",
       "      <th>avg_training_score</th>\n",
       "      <th>is_promoted</th>\n",
       "    </tr>\n",
       "  </thead>\n",
       "  <tbody>\n",
       "    <tr>\n",
       "      <th>0</th>\n",
       "      <td>65438</td>\n",
       "      <td>Sales &amp; Marketing</td>\n",
       "      <td>region_7</td>\n",
       "      <td>Master's &amp; above</td>\n",
       "      <td>f</td>\n",
       "      <td>sourcing</td>\n",
       "      <td>1</td>\n",
       "      <td>35</td>\n",
       "      <td>5.0</td>\n",
       "      <td>8</td>\n",
       "      <td>0</td>\n",
       "      <td>49</td>\n",
       "      <td>0</td>\n",
       "    </tr>\n",
       "    <tr>\n",
       "      <th>1</th>\n",
       "      <td>65141</td>\n",
       "      <td>Operations</td>\n",
       "      <td>region_22</td>\n",
       "      <td>Bachelor's</td>\n",
       "      <td>m</td>\n",
       "      <td>other</td>\n",
       "      <td>1</td>\n",
       "      <td>30</td>\n",
       "      <td>5.0</td>\n",
       "      <td>4</td>\n",
       "      <td>0</td>\n",
       "      <td>60</td>\n",
       "      <td>0</td>\n",
       "    </tr>\n",
       "    <tr>\n",
       "      <th>2</th>\n",
       "      <td>7513</td>\n",
       "      <td>Sales &amp; Marketing</td>\n",
       "      <td>region_19</td>\n",
       "      <td>Bachelor's</td>\n",
       "      <td>m</td>\n",
       "      <td>sourcing</td>\n",
       "      <td>1</td>\n",
       "      <td>34</td>\n",
       "      <td>3.0</td>\n",
       "      <td>7</td>\n",
       "      <td>0</td>\n",
       "      <td>50</td>\n",
       "      <td>0</td>\n",
       "    </tr>\n",
       "    <tr>\n",
       "      <th>3</th>\n",
       "      <td>2542</td>\n",
       "      <td>Sales &amp; Marketing</td>\n",
       "      <td>region_23</td>\n",
       "      <td>Bachelor's</td>\n",
       "      <td>m</td>\n",
       "      <td>other</td>\n",
       "      <td>2</td>\n",
       "      <td>39</td>\n",
       "      <td>1.0</td>\n",
       "      <td>10</td>\n",
       "      <td>0</td>\n",
       "      <td>50</td>\n",
       "      <td>0</td>\n",
       "    </tr>\n",
       "    <tr>\n",
       "      <th>4</th>\n",
       "      <td>48945</td>\n",
       "      <td>Technology</td>\n",
       "      <td>region_26</td>\n",
       "      <td>Bachelor's</td>\n",
       "      <td>m</td>\n",
       "      <td>other</td>\n",
       "      <td>1</td>\n",
       "      <td>45</td>\n",
       "      <td>3.0</td>\n",
       "      <td>2</td>\n",
       "      <td>0</td>\n",
       "      <td>73</td>\n",
       "      <td>0</td>\n",
       "    </tr>\n",
       "  </tbody>\n",
       "</table>\n",
       "</div>"
      ],
      "text/plain": [
       "   employee_id         department     region         education gender  \\\n",
       "0        65438  Sales & Marketing   region_7  Master's & above      f   \n",
       "1        65141         Operations  region_22        Bachelor's      m   \n",
       "2         7513  Sales & Marketing  region_19        Bachelor's      m   \n",
       "3         2542  Sales & Marketing  region_23        Bachelor's      m   \n",
       "4        48945         Technology  region_26        Bachelor's      m   \n",
       "\n",
       "  recruitment_channel  no_of_trainings  age  previous_year_rating  \\\n",
       "0            sourcing                1   35                   5.0   \n",
       "1               other                1   30                   5.0   \n",
       "2            sourcing                1   34                   3.0   \n",
       "3               other                2   39                   1.0   \n",
       "4               other                1   45                   3.0   \n",
       "\n",
       "   length_of_service  awards_won?  avg_training_score  is_promoted  \n",
       "0                  8            0                  49            0  \n",
       "1                  4            0                  60            0  \n",
       "2                  7            0                  50            0  \n",
       "3                 10            0                  50            0  \n",
       "4                  2            0                  73            0  "
      ]
     },
     "execution_count": 43,
     "metadata": {},
     "output_type": "execute_result"
    }
   ],
   "source": [
    "df.head()"
   ]
  },
  {
   "cell_type": "markdown",
   "id": "fb05042b",
   "metadata": {},
   "source": [
    "**Since employee_id is not contributing much for the target based on correlation value, removing the employee_id column from the dataframe**\n",
    "\n",
    "1. What question(s) are you trying to solve (or prove wrong)?\n",
    "2. What kind of data do you have and how do you treat different types?\n",
    "3. What’s missing from the data and how do you deal with it?\n",
    "4. Where are the outliers and why should you care about them?\n",
    "5. How can you add, change or remove features to get more out of your data?"
   ]
  },
  {
   "cell_type": "code",
   "execution_count": 58,
   "id": "e36ab18a",
   "metadata": {},
   "outputs": [
    {
     "data": {
      "text/plain": [
       "department              0\n",
       "region                  0\n",
       "education               0\n",
       "gender                  0\n",
       "recruitment_channel     0\n",
       "no_of_trainings         0\n",
       "age                     0\n",
       "previous_year_rating    0\n",
       "length_of_service       0\n",
       "awards_won?             0\n",
       "avg_training_score      0\n",
       "is_promoted             0\n",
       "dtype: int64"
      ]
     },
     "execution_count": 58,
     "metadata": {},
     "output_type": "execute_result"
    }
   ],
   "source": [
    "# Removing the employee_id column\n",
    "\n",
    "df.drop(\"employee_id\",axis=1,inplace=True)\n",
    "\n",
    "# Checking the missing values for each column\n",
    "df.isna().sum()"
   ]
  },
  {
   "cell_type": "code",
   "execution_count": 49,
   "id": "1c644138",
   "metadata": {},
   "outputs": [
    {
     "data": {
      "text/plain": [
       "employee_id             0\n",
       "department              0\n",
       "region                  0\n",
       "education               0\n",
       "gender                  0\n",
       "recruitment_channel     0\n",
       "no_of_trainings         0\n",
       "age                     0\n",
       "previous_year_rating    0\n",
       "length_of_service       0\n",
       "awards_won?             0\n",
       "avg_training_score      0\n",
       "is_promoted             0\n",
       "dtype: int64"
      ]
     },
     "execution_count": 49,
     "metadata": {},
     "output_type": "execute_result"
    }
   ],
   "source": [
    "## Filling the missing value of education with mode and previous_year_rating with mean of ratings\n",
    "\n",
    "df[\"education\"].fillna(df[\"education\"].mode()[0],inplace=True)\n",
    "df[\"previous_year_rating\"].fillna(df[\"previous_year_rating\"].mean(),inplace=True)\n",
    "\n",
    "# Check after filling the null values\n",
    "df.isna().sum()\n"
   ]
  },
  {
   "cell_type": "code",
   "execution_count": 53,
   "id": "904d9776",
   "metadata": {},
   "outputs": [
    {
     "data": {
      "text/plain": [
       "<AxesSubplot:>"
      ]
     },
     "execution_count": 53,
     "metadata": {},
     "output_type": "execute_result"
    },
    {
     "data": {
      "image/png": "[encoded data removed]",
      "text/plain": [
       "<Figure size 1800x720 with 1 Axes>"
      ]
     },
     "metadata": {
      "needs_background": "light"
     },
     "output_type": "display_data"
    }
   ],
   "source": [
    "# Checking for outliers in the data\n",
    "\n",
    "sns.boxplot(data=df[df.columns.difference(['employee_id'])])"
   ]
  },
  {
   "cell_type": "code",
   "execution_count": 54,
   "id": "640a4059",
   "metadata": {},
   "outputs": [
    {
     "name": "stdout",
     "output_type": "stream",
     "text": [
      "department\n",
      "region\n",
      "education\n",
      "gender\n",
      "recruitment_channel\n"
     ]
    }
   ],
   "source": [
    "# Coverting object datatypes to categorical datatypes to fit dataframe for model\n",
    "\n",
    "# Find the columns which contain strings\n",
    "for label, content in df.items():\n",
    "    if pd.api.types.is_string_dtype(content):\n",
    "        print(label)"
   ]
  },
  {
   "cell_type": "code",
   "execution_count": 72,
   "id": "fe26cff4",
   "metadata": {},
   "outputs": [
    {
     "name": "stdout",
     "output_type": "stream",
     "text": [
      "<class 'pandas.core.frame.DataFrame'>\n",
      "RangeIndex: 54808 entries, 0 to 54807\n",
      "Data columns (total 58 columns):\n",
      " #   Column                        Non-Null Count  Dtype  \n",
      "---  ------                        --------------  -----  \n",
      " 0   no_of_trainings               54808 non-null  int64  \n",
      " 1   age                           54808 non-null  int64  \n",
      " 2   previous_year_rating          54808 non-null  float64\n",
      " 3   length_of_service             54808 non-null  int64  \n",
      " 4   awards_won?                   54808 non-null  int64  \n",
      " 5   avg_training_score            54808 non-null  int64  \n",
      " 6   is_promoted                   54808 non-null  int64  \n",
      " 7   department_Analytics          54808 non-null  uint8  \n",
      " 8   department_Finance            54808 non-null  uint8  \n",
      " 9   department_HR                 54808 non-null  uint8  \n",
      " 10  department_Legal              54808 non-null  uint8  \n",
      " 11  department_Operations         54808 non-null  uint8  \n",
      " 12  department_Procurement        54808 non-null  uint8  \n",
      " 13  department_R&D                54808 non-null  uint8  \n",
      " 14  department_Sales & Marketing  54808 non-null  uint8  \n",
      " 15  department_Technology         54808 non-null  uint8  \n",
      " 16  region_region_1               54808 non-null  uint8  \n",
      " 17  region_region_10              54808 non-null  uint8  \n",
      " 18  region_region_11              54808 non-null  uint8  \n",
      " 19  region_region_12              54808 non-null  uint8  \n",
      " 20  region_region_13              54808 non-null  uint8  \n",
      " 21  region_region_14              54808 non-null  uint8  \n",
      " 22  region_region_15              54808 non-null  uint8  \n",
      " 23  region_region_16              54808 non-null  uint8  \n",
      " 24  region_region_17              54808 non-null  uint8  \n",
      " 25  region_region_18              54808 non-null  uint8  \n",
      " 26  region_region_19              54808 non-null  uint8  \n",
      " 27  region_region_2               54808 non-null  uint8  \n",
      " 28  region_region_20              54808 non-null  uint8  \n",
      " 29  region_region_21              54808 non-null  uint8  \n",
      " 30  region_region_22              54808 non-null  uint8  \n",
      " 31  region_region_23              54808 non-null  uint8  \n",
      " 32  region_region_24              54808 non-null  uint8  \n",
      " 33  region_region_25              54808 non-null  uint8  \n",
      " 34  region_region_26              54808 non-null  uint8  \n",
      " 35  region_region_27              54808 non-null  uint8  \n",
      " 36  region_region_28              54808 non-null  uint8  \n",
      " 37  region_region_29              54808 non-null  uint8  \n",
      " 38  region_region_3               54808 non-null  uint8  \n",
      " 39  region_region_30              54808 non-null  uint8  \n",
      " 40  region_region_31              54808 non-null  uint8  \n",
      " 41  region_region_32              54808 non-null  uint8  \n",
      " 42  region_region_33              54808 non-null  uint8  \n",
      " 43  region_region_34              54808 non-null  uint8  \n",
      " 44  region_region_4               54808 non-null  uint8  \n",
      " 45  region_region_5               54808 non-null  uint8  \n",
      " 46  region_region_6               54808 non-null  uint8  \n",
      " 47  region_region_7               54808 non-null  uint8  \n",
      " 48  region_region_8               54808 non-null  uint8  \n",
      " 49  region_region_9               54808 non-null  uint8  \n",
      " 50  education_Bachelor's          54808 non-null  uint8  \n",
      " 51  education_Below Secondary     54808 non-null  uint8  \n",
      " 52  education_Master's & above    54808 non-null  uint8  \n",
      " 53  gender_f                      54808 non-null  uint8  \n",
      " 54  gender_m                      54808 non-null  uint8  \n",
      " 55  recruitment_channel_other     54808 non-null  uint8  \n",
      " 56  recruitment_channel_referred  54808 non-null  uint8  \n",
      " 57  recruitment_channel_sourcing  54808 non-null  uint8  \n",
      "dtypes: float64(1), int64(6), uint8(51)\n",
      "memory usage: 5.6 MB\n"
     ]
    }
   ],
   "source": [
    "# Convert these columns into integers by using get_dummies function\n",
    "\n",
    "df = pd.get_dummies(df)\n",
    "        \n",
    "df.info()"
   ]
  },
  {
   "cell_type": "markdown",
   "id": "fc25e944",
   "metadata": {},
   "source": [
    "## 5. Modelling"
   ]
  },
  {
   "cell_type": "code",
   "execution_count": 75,
   "id": "7625d4dd",
   "metadata": {},
   "outputs": [
    {
     "data": {
      "text/plain": [
       "(43846, 10962)"
      ]
     },
     "execution_count": 75,
     "metadata": {},
     "output_type": "execute_result"
    }
   ],
   "source": [
    "## Split the data to train and test the model using train_test split\n",
    "\n",
    "X = df.drop(\"is_promoted\",axis=1)\n",
    "y = df[\"is_promoted\"]\n",
    "\n",
    "X_train,X_test,y_train,y_test = train_test_split(X,y,test_size=0.2)\n",
    "\n",
    "X_train.shape[0], X_test.shape[0]"
   ]
  },
  {
   "cell_type": "code",
   "execution_count": 76,
   "id": "8868c902",
   "metadata": {},
   "outputs": [],
   "source": [
    "models = { \"logistic\" : LogisticRegression(),\n",
    "           \"K-Neighbours\" : KNeighborsClassifier(),\n",
    "           \"Randomforest\" : RandomForestClassifier()\n",
    "         }\n",
    "\n",
    "\n",
    "def fit_and_score_models(models,X_train,X_test,y_train,y_test):\n",
    "    \"\"\"\n",
    "    Using training and testing data to fit the models.\n",
    "    \"\"\"\n",
    "    # Set random seed\n",
    "    np.random.seed(42)\n",
    "    model_scores = {}\n",
    "    \n",
    "    # Fitting the model and adding score to \"model_scores\"\n",
    "    for name,model in models.items():\n",
    "        model.fit(X_train,y_train)\n",
    "        model_scores[name] = model.score(X_test,y_test)\n",
    "    \n",
    "    return model_scores"
   ]
  },
  {
   "cell_type": "code",
   "execution_count": 77,
   "id": "918599e3",
   "metadata": {},
   "outputs": [
    {
     "name": "stderr",
     "output_type": "stream",
     "text": [
      "C:\\Users\\Ravi Puvvula\\anaconda3\\lib\\site-packages\\sklearn\\linear_model\\_logistic.py:814: ConvergenceWarning: lbfgs failed to converge (status=1):\n",
      "STOP: TOTAL NO. of ITERATIONS REACHED LIMIT.\n",
      "\n",
      "Increase the number of iterations (max_iter) or scale the data as shown in:\n",
      "    https://scikit-learn.org/stable/modules/preprocessing.html\n",
      "Please also refer to the documentation for alternative solver options:\n",
      "    https://scikit-learn.org/stable/modules/linear_model.html#logistic-regression\n",
      "  n_iter_i = _check_optimize_result(\n"
     ]
    },
    {
     "data": {
      "text/plain": [
       "<AxesSubplot:>"
      ]
     },
     "execution_count": 77,
     "metadata": {},
     "output_type": "execute_result"
    },
    {
     "data": {
      "image/png": "[encoded data removed]",
      "text/plain": [
       "<Figure size 432x432 with 1 Axes>"
      ]
     },
     "metadata": {
      "needs_background": "light"
     },
     "output_type": "display_data"
    }
   ],
   "source": [
    "model_scores = fit_and_score_models(models,X_train,X_test,y_train,y_test)\n",
    "\n",
    "model_scores = pd.DataFrame(model_scores,index=[\"accuracy\"])\n",
    "\n",
    "plt.rcParams[\"figure.figsize\"] =(6,6)\n",
    "sns.barplot(data=model_scores,palette=\"Blues_d\")"
   ]
  },
  {
   "cell_type": "code",
   "execution_count": 78,
   "id": "7b8e8b4a",
   "metadata": {},
   "outputs": [
    {
     "data": {
      "text/html": [
       "<div>\n",
       "<style scoped>\n",
       "    .dataframe tbody tr th:only-of-type {\n",
       "        vertical-align: middle;\n",
       "    }\n",
       "\n",
       "    .dataframe tbody tr th {\n",
       "        vertical-align: top;\n",
       "    }\n",
       "\n",
       "    .dataframe thead th {\n",
       "        text-align: right;\n",
       "    }\n",
       "</style>\n",
       "<table border=\"1\" class=\"dataframe\">\n",
       "  <thead>\n",
       "    <tr style=\"text-align: right;\">\n",
       "      <th></th>\n",
       "      <th>logistic</th>\n",
       "      <th>K-Neighbours</th>\n",
       "      <th>Randomforest</th>\n",
       "    </tr>\n",
       "  </thead>\n",
       "  <tbody>\n",
       "    <tr>\n",
       "      <th>accuracy</th>\n",
       "      <td>0.933406</td>\n",
       "      <td>0.924649</td>\n",
       "      <td>0.934683</td>\n",
       "    </tr>\n",
       "  </tbody>\n",
       "</table>\n",
       "</div>"
      ],
      "text/plain": [
       "          logistic  K-Neighbours  Randomforest\n",
       "accuracy  0.933406      0.924649      0.934683"
      ]
     },
     "execution_count": 78,
     "metadata": {},
     "output_type": "execute_result"
    }
   ],
   "source": [
    "model_scores"
   ]
  },
  {
   "cell_type": "markdown",
   "id": "e9fc5d77",
   "metadata": {},
   "source": [
    "## 6. Hyperparameter Tuning"
   ]
  },
  {
   "cell_type": "markdown",
   "id": "e1b4ce2c",
   "metadata": {},
   "source": [
    "#### Starting with Hyperparameter Tuning for Random Forest Model"
   ]
  },
  {
   "cell_type": "code",
   "execution_count": 84,
   "id": "6714df97",
   "metadata": {},
   "outputs": [],
   "source": [
    "# Create the parameter grid based on the results of Grid search for Re\n",
    "param_grid = {\n",
    "    'max_depth': np.arange(10,100,10),\n",
    "    'n_estimators': [10,20,50,70]\n",
    "}\n",
    "\n",
    "\n",
    "# Create a basic model\n",
    "clf = RandomForestClassifier()\n",
    "\n",
    "# Set random seed\n",
    "np.random.seed(42)\n",
    "\n",
    "# Instantiate the grid search model\n",
    "gs_random_forest = GridSearchCV(estimator = clf, param_grid = param_grid, \n",
    "                          cv = 5, n_jobs = -1, verbose = 2)"
   ]
  },
  {
   "cell_type": "markdown",
   "id": "be642daf",
   "metadata": {},
   "source": [
    "**Fitting the model to see best parameters**"
   ]
  },
  {
   "cell_type": "code",
   "execution_count": 85,
   "id": "d29699bc",
   "metadata": {},
   "outputs": [
    {
     "name": "stdout",
     "output_type": "stream",
     "text": [
      "Fitting 5 folds for each of 36 candidates, totalling 180 fits\n"
     ]
    },
    {
     "data": {
      "text/plain": [
       "{'max_depth': 30, 'n_estimators': 50}"
      ]
     },
     "execution_count": 85,
     "metadata": {},
     "output_type": "execute_result"
    }
   ],
   "source": [
    "# Fit the grid search to the data\n",
    "gs_random_forest.fit(X_train, y_train)\n",
    "\n",
    "gs_random_forest.best_params_"
   ]
  },
  {
   "cell_type": "code",
   "execution_count": 86,
   "id": "05977320",
   "metadata": {},
   "outputs": [
    {
     "name": "stdout",
     "output_type": "stream",
     "text": [
      "Model Performance \n",
      "\n",
      "Accuracy = 93.61%.\n",
      "Precision score = 85.32%.\n",
      "Recall score = 27.53%.\n",
      "F1 score = 41.63%.\n"
     ]
    }
   ],
   "source": [
    "# Evaluate the model and find classification metrics\n",
    "\n",
    "def evaluate(model, y_test, y_pred):\n",
    "    \n",
    "    accuracy   = accuracy_score(y_test,y_pred)\n",
    "    precision  = precision_score(y_test,y_pred)\n",
    "    recall     = recall_score(y_test,y_pred)\n",
    "    f1         = f1_score(y_test,y_pred)\n",
    "    \n",
    "    print('Model Performance \\n')\n",
    "    print('Accuracy = {:.2f}%.'.format(accuracy*100))\n",
    "    print('Precision score = {:.2f}%.'.format(precision*100))\n",
    "    print('Recall score = {:.2f}%.'.format(recall*100))\n",
    "    print('F1 score = {:.2f}%.'.format(f1*100))\n",
    "\n",
    "# Calculate predictions and evaluate the model\n",
    "\n",
    "y_pred = gs_random_forest.predict(X_test)\n",
    "evaluate(gs_random_forest,y_test,y_pred)"
   ]
  },
  {
   "cell_type": "markdown",
   "id": "cc171d00",
   "metadata": {},
   "source": [
    "## 7. Experimentation"
   ]
  },
  {
   "cell_type": "markdown",
   "id": "6996feae",
   "metadata": {},
   "source": [
    "#### Now Testing with Hyperparameter Tuning for LogisticRegression"
   ]
  },
  {
   "cell_type": "code",
   "execution_count": 91,
   "id": "19a8820e",
   "metadata": {},
   "outputs": [
    {
     "name": "stdout",
     "output_type": "stream",
     "text": [
      "Fitting 5 folds for each of 5 candidates, totalling 25 fits\n"
     ]
    },
    {
     "data": {
      "text/plain": [
       "{'solver': 'newton-cg', 'C': 828642.7728546859}"
      ]
     },
     "execution_count": 91,
     "metadata": {},
     "output_type": "execute_result"
    }
   ],
   "source": [
    "# Create the parameter grid based on the results of Grid search for Re\n",
    "param_log_grid = {\n",
    "    'C': np.logspace(-10,10,50),\n",
    "    'solver': [\"liblinear\",\"newton-cg\", \"lbfgs\",]\n",
    "}\n",
    "\n",
    "\n",
    "# Create a basic model\n",
    "clf = LogisticRegression()\n",
    "\n",
    "# Set random seed\n",
    "np.random.seed(42)\n",
    "\n",
    "# Instantiate the Randomized search cv model\n",
    "rs_log_regr = RandomizedSearchCV(estimator = clf, \n",
    "                                 param_distributions=param_log_grid, \n",
    "                                 cv = 5,\n",
    "                                 n_iter = 5, \n",
    "                                 verbose = True)\n",
    "\n",
    "rs_log_regr.fit(X_train, y_train)\n",
    "\n",
    "rs_log_regr.best_params_"
   ]
  },
  {
   "cell_type": "code",
   "execution_count": 92,
   "id": "5df56633",
   "metadata": {},
   "outputs": [
    {
     "name": "stdout",
     "output_type": "stream",
     "text": [
      "Model Performance \n",
      "\n",
      "Accuracy = 93.92%.\n",
      "Precision score = 93.53%.\n",
      "Recall score = 28.63%.\n",
      "F1 score = 43.84%.\n"
     ]
    }
   ],
   "source": [
    "# Calculate predictions and evaluate the model\n",
    "\n",
    "y_pred = rs_log_regr.predict(X_test)\n",
    "evaluate(rs_log_regr,y_test,y_pred)"
   ]
  },
  {
   "cell_type": "markdown",
   "id": "e20fae21",
   "metadata": {},
   "source": [
    "## 8. Model Evaluation"
   ]
  },
  {
   "cell_type": "markdown",
   "id": "21c98205",
   "metadata": {},
   "source": [
    "**As observed from both models, the best score and accuracy is observed using Logistic regression**"
   ]
  },
  {
   "cell_type": "code",
   "execution_count": 93,
   "id": "485a4179",
   "metadata": {},
   "outputs": [
    {
     "name": "stdout",
     "output_type": "stream",
     "text": [
      "Model Performance \n",
      "\n",
      "Accuracy = 93.92%.\n",
      "Precision score = 93.53%.\n",
      "Recall score = 28.63%.\n",
      "F1 score = 43.84%.\n"
     ]
    }
   ],
   "source": [
    "evaluate(rs_log_regr,y_test,y_pred)"
   ]
  },
  {
   "cell_type": "code",
   "execution_count": 94,
   "id": "9c07c8de",
   "metadata": {},
   "outputs": [
    {
     "name": "stderr",
     "output_type": "stream",
     "text": [
      "C:\\Users\\Ravi Puvvula\\anaconda3\\lib\\site-packages\\sklearn\\utils\\deprecation.py:87: FutureWarning: Function plot_roc_curve is deprecated; Function `plot_roc_curve` is deprecated in 1.0 and will be removed in 1.2. Use one of the class methods: RocCurveDisplay.from_predictions or RocCurveDisplay.from_estimator.\n",
      "  warnings.warn(msg, category=FutureWarning)\n"
     ]
    },
    {
     "data": {
      "text/plain": [
       "<sklearn.metrics._plot.roc_curve.RocCurveDisplay at 0x1f98d28c940>"
      ]
     },
     "execution_count": 94,
     "metadata": {},
     "output_type": "execute_result"
    },
    {
     "data": {
      "image/png": "[encoded data removed]",
      "text/plain": [
       "<Figure size 720x432 with 1 Axes>"
      ]
     },
     "metadata": {
      "needs_background": "light"
     },
     "output_type": "display_data"
    }
   ],
   "source": [
    "# Plotting the ROC curve and calculate AUC\n",
    "\n",
    "plt.rcParams[\"figure.figsize\"] =(10,6)\n",
    "plot_roc_curve(rs_log_regr,X_test,y_test)"
   ]
  },
  {
   "cell_type": "code",
   "execution_count": 100,
   "id": "6dbbb392",
   "metadata": {},
   "outputs": [
    {
     "data": {
      "image/png": "[encoded data removed]",
      "text/plain": [
       "<Figure size 720x432 with 1 Axes>"
      ]
     },
     "metadata": {
      "needs_background": "light"
     },
     "output_type": "display_data"
    }
   ],
   "source": [
    "## Plotting the confusion matrix\n",
    "\n",
    "def plot_conf_matrix(y_test,y_pred):\n",
    "    \"\"\" Plot the confusion matrix between predictions and actual values sent to function\"\"\"\n",
    "    \n",
    "    sns.heatmap(pd.crosstab(y_test,y_pred),\n",
    "               annot=True,\n",
    "               cbar=False,\n",
    "               fmt=\".2f\",\n",
    "               cmap=\"GnBu\"\n",
    "               )\n",
    "    plt.xlabel(\"True Values\")\n",
    "    plt.ylabel(\"Predicted Values\")\n",
    "    plt.title(\"Confusion Matrix\")\n",
    "\n",
    "plot_conf_matrix(y_test,y_pred)"
   ]
  }
 ],
 "metadata": {
  "kernelspec": {
   "display_name": "Python 3 (ipykernel)",
   "language": "python",
   "name": "python3"
  },
  "language_info": {
   "codemirror_mode": {
    "name": "ipython",
    "version": 3
   },
   "file_extension": ".py",
   "mimetype": "text/x-python",
   "name": "python",
   "nbconvert_exporter": "python",
   "pygments_lexer": "ipython3",
   "version": "3.8.8"
  }
 },
 "nbformat": 4,
 "nbformat_minor": 5
}
